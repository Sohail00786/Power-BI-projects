{
 "cells": [
  {
   "cell_type": "markdown",
   "id": "e4022197",
   "metadata": {},
   "source": [
    "#  Military Data Extraction Code"
   ]
  },
  {
   "cell_type": "markdown",
   "id": "30a9ec35",
   "metadata": {},
   "source": [
    "![](The-World's-Military-Spendings---cover---72dpi-fcaa.jpg)"
   ]
  },
  {
   "cell_type": "markdown",
   "id": "57b919d4",
   "metadata": {},
   "source": [
    "# Importing Dependencies"
   ]
  },
  {
   "cell_type": "code",
   "execution_count": null,
   "id": "59df7969",
   "metadata": {},
   "outputs": [],
   "source": [
    "from lib2to3.pgen2 import driver    \n",
    "from selenium import webdriver      \n",
    "import pandas as pd\n",
    "from openpyxl.workbook import workbook\n",
    "from webdriver_manager.chrome import ChromeDriverManager\n",
    "import warnings\n",
    "warnings.filterwarnings(\"ignore\", category = DeprecationWarning)\n",
    "warnings.filterwarnings(\"ignore\", category = FutureWarning)"
   ]
  },
  {
   "cell_type": "code",
   "execution_count": 2,
   "id": "053c8dab",
   "metadata": {},
   "outputs": [],
   "source": [
    "# storing webdriver in a variable to get in webpage\n",
    "driver = webdriver.Chrome(ChromeDriverManager().install())"
   ]
  },
  {
   "cell_type": "markdown",
   "id": "b36892f6",
   "metadata": {},
   "source": [
    "# Extracting list of Country By Level of Military Expenditure"
   ]
  },
  {
   "cell_type": "code",
   "execution_count": 3,
   "id": "19bcc33a",
   "metadata": {},
   "outputs": [],
   "source": [
    "# opening webpage\n",
    "driver.get('https://en.wikipedia.org/wiki/List_of_countries_by_number_of_military_and_paramilitary_personnel')\n",
    "driver.maximize_window()"
   ]
  },
  {
   "cell_type": "code",
   "execution_count": 4,
   "id": "71a68917",
   "metadata": {},
   "outputs": [],
   "source": [
    "country = driver.find_elements_by_xpath('//table/tbody/tr/td/a')\n",
    "\n",
    "activemilitary = driver.find_elements_by_xpath('//table/tbody/tr/td[3]')\n",
    " \n",
    "reservemilitary = driver.find_elements_by_xpath('//table/tbody/tr/td[4]')\n",
    "\n",
    "paramilitary = driver.find_elements_by_xpath('//table/tbody/tr/td[5]')\n",
    "\n",
    "totalsoldiers = driver.find_elements_by_xpath('//table/tbody/tr/td[6]')\n",
    "\n",
    "percapitatotalthousand = driver.find_elements_by_xpath('//table/tbody/tr/td[7]')\n",
    "\n",
    "percapitaactivethousand = driver.find_elements_by_xpath('//table/tbody/tr/td[8]')  \n",
    "                                                        \n",
    "my_result_1=[] #Creating empty list to append later\n",
    "#print(len(totalsoldiers))\n",
    "for i in range(len(totalsoldiers)):\n",
    "    Temporary_data_1 = {'country':country[i].text,\n",
    "    'active military':activemilitary[i].text,\n",
    "    'reserve military':reservemilitary[i].text,\n",
    "    'paramilitary':paramilitary[i].text,\n",
    "    'total soldiers': totalsoldiers[i].text,\n",
    "    'Per 1,000 capita(total)':percapitatotalthousand[i].text,\n",
    "    'Per 1,000 capita(active)':percapitaactivethousand[i].text\n",
    "    }\n",
    "    my_result_1.append(Temporary_data_1)                                                        "
   ]
  },
  {
   "cell_type": "markdown",
   "id": "5fb0bdbd",
   "metadata": {},
   "source": [
    "# Extracting list of Country By Level of Military Expenditure"
   ]
  },
  {
   "cell_type": "code",
   "execution_count": 5,
   "id": "14ba9951",
   "metadata": {},
   "outputs": [],
   "source": [
    "# opening webpage\n",
    "driver.get('https://en.wikipedia.org/wiki/List_of_countries_by_military_expenditures')\n",
    "driver.maximize_window()"
   ]
  },
  {
   "cell_type": "code",
   "execution_count": 6,
   "id": "34d892ff",
   "metadata": {},
   "outputs": [],
   "source": [
    "country = driver.find_elements_by_xpath('//table[2]/tbody/tr/td/a')\n",
    "\n",
    "MilitarySpending = driver.find_elements_by_xpath('//table[2]/tbody/tr/td[2]')\n",
    " \n",
    "Population = driver.find_elements_by_xpath('//table[2]/tbody/tr/td[3]')\n",
    "\n",
    "MilitarySpending_per_capita = driver.find_elements_by_xpath('//table[2]/tbody/tr/td[4]')\n",
    "\n",
    "GDP_Billion = driver.find_elements_by_xpath('//table[2]/tbody/tr/td[5]')\n",
    "\n",
    "GDP_Percentage = driver.find_elements_by_xpath('//table[2]/tbody/tr/td[6]')\n",
    "\n",
    "my_result_2=[] #Creating empty list to append later\n",
    "#print(len(MilitarySpending))\n",
    "for i in range(len(MilitarySpending)):\n",
    "    Temporary_data_2 = {'country':country[i].text,\n",
    "    'MilitarySpending':MilitarySpending[i].text,\n",
    "    'Population':Population[i].text,\n",
    "    'Military_Spending(Per_Capita)':MilitarySpending_per_capita[i].text,                 \n",
    "    'GDP(Billion)':GDP_Billion[i].text,\n",
    "    'GDP_Percentage':GDP_Percentage[i].text\n",
    "    }                 \n",
    "    \n",
    "    my_result_2.append(Temporary_data_2) "
   ]
  },
  {
   "cell_type": "markdown",
   "id": "dcd6a489",
   "metadata": {},
   "source": [
    "# Extracting list of Country By Level of Military Equipment"
   ]
  },
  {
   "cell_type": "code",
   "execution_count": 7,
   "id": "789d1ec9",
   "metadata": {},
   "outputs": [],
   "source": [
    "# opening webpage\n",
    "driver.get('https://en.wikipedia.org/wiki/List_of_countries_by_level_of_military_equipment')\n",
    "driver.maximize_window()"
   ]
  },
  {
   "cell_type": "code",
   "execution_count": 8,
   "id": "1b4f695a",
   "metadata": {},
   "outputs": [],
   "source": [
    "country = driver.find_elements_by_xpath('//table[2]/tbody/tr/td/a')\n",
    "\n",
    "MilitaryBudget = driver.find_elements_by_xpath('//table[2]/tbody/tr/td[3]')\n",
    " \n",
    "MainBattleTank = driver.find_elements_by_xpath('//table[2]/tbody/tr/td[4]')\n",
    "\n",
    "AircraftCarriers = driver.find_elements_by_xpath('//table[2]/tbody/tr/td[5]')\n",
    "\n",
    "AWS = driver.find_elements_by_xpath('//table[2]/tbody/tr/td[6]')\n",
    "\n",
    "Cruisers = driver.find_elements_by_xpath('//table[2]/tbody/tr/td[7]')\n",
    "\n",
    "Destroyers = driver.find_elements_by_xpath('//table[2]/tbody/tr/td[8]')  \n",
    "\n",
    "Frlgates = driver.find_elements_by_xpath('//table[2]/tbody/tr/td[9]') \n",
    "\n",
    "Corvettes = driver.find_elements_by_xpath('//table[2]/tbody/tr/td[10]') \n",
    "\n",
    "NuclearSubmarine = driver.find_elements_by_xpath('//table[2]/tbody/tr/td[11]') \n",
    "\n",
    "NonNuclearSubmarine = driver.find_elements_by_xpath('//table[2]/tbody/tr/td[12]') \n",
    "\n",
    "MilitaryAircarft = driver.find_elements_by_xpath('//table[2]/tbody/tr/td[13]') \n",
    "\n",
    "AttackHelicopters = driver.find_elements_by_xpath('//table[2]/tbody/tr/td[14]') \n",
    "\n",
    "NuclearWeapons = driver.find_elements_by_xpath('//table[2]/tbody/tr/td[15]') \n",
    "\n",
    "MillatarySatellite = driver.find_elements_by_xpath('//table[2]/tbody/tr/td[16]') \n",
    "\n",
    "my_result_3=[] #Creating empty list to append later\n",
    "#print(len(MilitaryBudget))\n",
    "for i in range(len(MilitaryBudget)):\n",
    "    Temporary_data_3 = {'country':country[i].text,\n",
    "    'MilitaryBudget':MilitaryBudget[i].text,\n",
    "    'MainBattleTank':MainBattleTank[i].text,\n",
    "    'AircraftCarriers':AircraftCarriers[i].text,\n",
    "    'AWS':AWS[i].text,\n",
    "    'Cruisers':Cruisers[i].text,\n",
    "    'Destroyers':Destroyers[i].text,\n",
    "    'Frlgates':Frlgates[i].text,\n",
    "    'Corvettes':Corvettes[i].text,\n",
    "    'NuclearSubmarine':NuclearSubmarine[i].text, \n",
    "    'NonNuclearSubmarine':NonNuclearSubmarine[i].text,  \n",
    "    'MilitaryAircarft':MilitaryAircarft[i].text, \n",
    "    'AttackHelicopters':AttackHelicopters[i].text, \n",
    "    'NuclearWeapons':NuclearWeapons[i].text, \n",
    "    'MillatarySatellite':MillatarySatellite[i].text                   \n",
    "    }\n",
    "    my_result_3.append(Temporary_data_3) "
   ]
  },
  {
   "cell_type": "code",
   "execution_count": 9,
   "id": "6b54ca54",
   "metadata": {},
   "outputs": [],
   "source": [
    "# converting to dataframe\n",
    "df_data_1 =pd.DataFrame(my_result_1)\n",
    "df_data_2 =pd.DataFrame(my_result_2)\n",
    "df_data_3 =pd.DataFrame(my_result_3)"
   ]
  },
  {
   "cell_type": "code",
   "execution_count": 10,
   "id": "c4a3e36f",
   "metadata": {},
   "outputs": [],
   "source": [
    "# saving data\n",
    "df_data_1.to_excel('my_result_1.xlsx',index=False)\n",
    "df_data_2.to_excel('my_result_2.xlsx',index=False)\n",
    "df_data_3.to_excel('my_result_3.xlsx',index=False)"
   ]
  },
  {
   "cell_type": "markdown",
   "id": "a7a96e78",
   "metadata": {},
   "source": [
    "# Data Manipulation"
   ]
  },
  {
   "cell_type": "code",
   "execution_count": null,
   "id": "b3427ca5",
   "metadata": {},
   "outputs": [],
   "source": [
    "# Did Some Data Cleaning in Excel Now Moving Forward To Prepare Data "
   ]
  },
  {
   "cell_type": "code",
   "execution_count": 1,
   "id": "f3977b11",
   "metadata": {},
   "outputs": [],
   "source": [
    "import pandas as pd\n",
    "df1 = pd.read_excel('my_result_1.xlsx')\n",
    "df2 = pd.read_excel('my_result_2.xlsx')\n",
    "df3 = pd.read_excel('my_result_3.xlsx')"
   ]
  },
  {
   "cell_type": "code",
   "execution_count": 2,
   "id": "2e2db2ed",
   "metadata": {},
   "outputs": [
    {
     "data": {
      "text/html": [
       "<div>\n",
       "<style scoped>\n",
       "    .dataframe tbody tr th:only-of-type {\n",
       "        vertical-align: middle;\n",
       "    }\n",
       "\n",
       "    .dataframe tbody tr th {\n",
       "        vertical-align: top;\n",
       "    }\n",
       "\n",
       "    .dataframe thead th {\n",
       "        text-align: right;\n",
       "    }\n",
       "</style>\n",
       "<table border=\"1\" class=\"dataframe\">\n",
       "  <thead>\n",
       "    <tr style=\"text-align: right;\">\n",
       "      <th></th>\n",
       "      <th>country</th>\n",
       "      <th>active military</th>\n",
       "      <th>reserve military</th>\n",
       "      <th>paramilitary</th>\n",
       "      <th>total soldiers</th>\n",
       "      <th>Per 1,000 capita(total)</th>\n",
       "      <th>Per 1,000 capita(active)</th>\n",
       "    </tr>\n",
       "  </thead>\n",
       "  <tbody>\n",
       "    <tr>\n",
       "      <th>0</th>\n",
       "      <td>Afghanistan</td>\n",
       "      <td>250000</td>\n",
       "      <td>75000</td>\n",
       "      <td>170000</td>\n",
       "      <td>495000</td>\n",
       "      <td>14.2</td>\n",
       "      <td>7.2</td>\n",
       "    </tr>\n",
       "    <tr>\n",
       "      <th>1</th>\n",
       "      <td>Albania</td>\n",
       "      <td>8000</td>\n",
       "      <td>0</td>\n",
       "      <td>0</td>\n",
       "      <td>8000</td>\n",
       "      <td>2.6</td>\n",
       "      <td>2.6</td>\n",
       "    </tr>\n",
       "    <tr>\n",
       "      <th>2</th>\n",
       "      <td>Algeria</td>\n",
       "      <td>130000</td>\n",
       "      <td>150000</td>\n",
       "      <td>187200</td>\n",
       "      <td>467200</td>\n",
       "      <td>11.2</td>\n",
       "      <td>3.1</td>\n",
       "    </tr>\n",
       "    <tr>\n",
       "      <th>3</th>\n",
       "      <td>Angola</td>\n",
       "      <td>107000</td>\n",
       "      <td>0</td>\n",
       "      <td>10000</td>\n",
       "      <td>117000</td>\n",
       "      <td>3.9</td>\n",
       "      <td>3.5</td>\n",
       "    </tr>\n",
       "    <tr>\n",
       "      <th>4</th>\n",
       "      <td>Antigua and Barbuda</td>\n",
       "      <td>180</td>\n",
       "      <td>80</td>\n",
       "      <td>0</td>\n",
       "      <td>260</td>\n",
       "      <td>2.7</td>\n",
       "      <td>1.9</td>\n",
       "    </tr>\n",
       "  </tbody>\n",
       "</table>\n",
       "</div>"
      ],
      "text/plain": [
       "               country  active military  reserve military  paramilitary  \\\n",
       "0          Afghanistan           250000             75000        170000   \n",
       "1              Albania             8000                 0             0   \n",
       "2              Algeria           130000            150000        187200   \n",
       "3               Angola           107000                 0         10000   \n",
       "4  Antigua and Barbuda              180                80             0   \n",
       "\n",
       "   total soldiers  Per 1,000 capita(total)  Per 1,000 capita(active)  \n",
       "0          495000                     14.2                       7.2  \n",
       "1            8000                      2.6                       2.6  \n",
       "2          467200                     11.2                       3.1  \n",
       "3          117000                      3.9                       3.5  \n",
       "4             260                      2.7                       1.9  "
      ]
     },
     "execution_count": 2,
     "metadata": {},
     "output_type": "execute_result"
    }
   ],
   "source": [
    "# first Five Columns of dataset\n",
    "df1.head(5)"
   ]
  },
  {
   "cell_type": "code",
   "execution_count": 6,
   "id": "6ccf26fa",
   "metadata": {},
   "outputs": [
    {
     "name": "stdout",
     "output_type": "stream",
     "text": [
      "<class 'pandas.core.frame.DataFrame'>\n",
      "RangeIndex: 172 entries, 0 to 171\n",
      "Data columns (total 7 columns):\n",
      " #   Column                    Non-Null Count  Dtype  \n",
      "---  ------                    --------------  -----  \n",
      " 0   country                   172 non-null    object \n",
      " 1   active military           172 non-null    int64  \n",
      " 2   reserve military          172 non-null    int64  \n",
      " 3   paramilitary              172 non-null    int64  \n",
      " 4   total soldiers            172 non-null    int64  \n",
      " 5   Per 1,000 capita(total)   172 non-null    float64\n",
      " 6   Per 1,000 capita(active)  172 non-null    float64\n",
      "dtypes: float64(2), int64(4), object(1)\n",
      "memory usage: 9.5+ KB\n"
     ]
    }
   ],
   "source": [
    "# Data Information\n",
    "df1.info()"
   ]
  },
  {
   "cell_type": "code",
   "execution_count": 27,
   "id": "a2d3b7af",
   "metadata": {},
   "outputs": [
    {
     "data": {
      "text/plain": [
       "(172, 7)"
      ]
     },
     "execution_count": 27,
     "metadata": {},
     "output_type": "execute_result"
    }
   ],
   "source": [
    "# Shape of Datset\n",
    "df1.shape"
   ]
  },
  {
   "cell_type": "code",
   "execution_count": 8,
   "id": "896ce7fe",
   "metadata": {},
   "outputs": [
    {
     "data": {
      "text/plain": [
       "country                     0\n",
       "active military             0\n",
       "reserve military            0\n",
       "paramilitary                0\n",
       "total soldiers              0\n",
       "Per 1,000 capita(total)     0\n",
       "Per 1,000 capita(active)    0\n",
       "dtype: int64"
      ]
     },
     "execution_count": 8,
     "metadata": {},
     "output_type": "execute_result"
    }
   ],
   "source": [
    "# Checking Null Values\n",
    "df1.isnull().sum()"
   ]
  },
  {
   "cell_type": "code",
   "execution_count": 3,
   "id": "a0ebaa8f",
   "metadata": {},
   "outputs": [
    {
     "data": {
      "text/html": [
       "<div>\n",
       "<style scoped>\n",
       "    .dataframe tbody tr th:only-of-type {\n",
       "        vertical-align: middle;\n",
       "    }\n",
       "\n",
       "    .dataframe tbody tr th {\n",
       "        vertical-align: top;\n",
       "    }\n",
       "\n",
       "    .dataframe thead th {\n",
       "        text-align: right;\n",
       "    }\n",
       "</style>\n",
       "<table border=\"1\" class=\"dataframe\">\n",
       "  <thead>\n",
       "    <tr style=\"text-align: right;\">\n",
       "      <th></th>\n",
       "      <th>country</th>\n",
       "      <th>MilitarySpending</th>\n",
       "      <th>Population</th>\n",
       "      <th>Military_Spending(Per_Capita)</th>\n",
       "      <th>GDP(Billion)</th>\n",
       "      <th>GDP_Percentage</th>\n",
       "    </tr>\n",
       "  </thead>\n",
       "  <tbody>\n",
       "    <tr>\n",
       "      <th>0</th>\n",
       "      <td>Afghanistan</td>\n",
       "      <td>12.00</td>\n",
       "      <td>40754388</td>\n",
       "      <td>294.45</td>\n",
       "      <td>19.54</td>\n",
       "      <td>61.40</td>\n",
       "    </tr>\n",
       "    <tr>\n",
       "      <th>1</th>\n",
       "      <td>Albania</td>\n",
       "      <td>0.25</td>\n",
       "      <td>2866374</td>\n",
       "      <td>87.22</td>\n",
       "      <td>13.04</td>\n",
       "      <td>1.92</td>\n",
       "    </tr>\n",
       "    <tr>\n",
       "      <th>2</th>\n",
       "      <td>Algeria</td>\n",
       "      <td>13.00</td>\n",
       "      <td>45350148</td>\n",
       "      <td>286.66</td>\n",
       "      <td>167.56</td>\n",
       "      <td>7.76</td>\n",
       "    </tr>\n",
       "    <tr>\n",
       "      <th>3</th>\n",
       "      <td>Angola</td>\n",
       "      <td>7.00</td>\n",
       "      <td>35027343</td>\n",
       "      <td>199.84</td>\n",
       "      <td>122.12</td>\n",
       "      <td>5.73</td>\n",
       "    </tr>\n",
       "    <tr>\n",
       "      <th>4</th>\n",
       "      <td>Argentina</td>\n",
       "      <td>4.20</td>\n",
       "      <td>46010234</td>\n",
       "      <td>91.28</td>\n",
       "      <td>637.43</td>\n",
       "      <td>0.66</td>\n",
       "    </tr>\n",
       "  </tbody>\n",
       "</table>\n",
       "</div>"
      ],
      "text/plain": [
       "       country  MilitarySpending  Population  Military_Spending(Per_Capita)  \\\n",
       "0  Afghanistan             12.00    40754388                         294.45   \n",
       "1      Albania              0.25     2866374                          87.22   \n",
       "2      Algeria             13.00    45350148                         286.66   \n",
       "3       Angola              7.00    35027343                         199.84   \n",
       "4    Argentina              4.20    46010234                          91.28   \n",
       "\n",
       "   GDP(Billion)  GDP_Percentage  \n",
       "0         19.54           61.40  \n",
       "1         13.04            1.92  \n",
       "2        167.56            7.76  \n",
       "3        122.12            5.73  \n",
       "4        637.43            0.66  "
      ]
     },
     "execution_count": 3,
     "metadata": {},
     "output_type": "execute_result"
    }
   ],
   "source": [
    "# first Five Columns of dataset\n",
    "df2.head(5)"
   ]
  },
  {
   "cell_type": "code",
   "execution_count": 9,
   "id": "2ec9abec",
   "metadata": {},
   "outputs": [
    {
     "name": "stdout",
     "output_type": "stream",
     "text": [
      "<class 'pandas.core.frame.DataFrame'>\n",
      "RangeIndex: 136 entries, 0 to 135\n",
      "Data columns (total 6 columns):\n",
      " #   Column                         Non-Null Count  Dtype  \n",
      "---  ------                         --------------  -----  \n",
      " 0   country                        136 non-null    object \n",
      " 1   MilitarySpending               136 non-null    float64\n",
      " 2   Population                     136 non-null    int64  \n",
      " 3   Military_Spending(Per_Capita)  136 non-null    float64\n",
      " 4   GDP(Billion)                   130 non-null    float64\n",
      " 5   GDP_Percentage                 130 non-null    float64\n",
      "dtypes: float64(4), int64(1), object(1)\n",
      "memory usage: 6.5+ KB\n"
     ]
    }
   ],
   "source": [
    "# Data Information\n",
    "df2.info()"
   ]
  },
  {
   "cell_type": "code",
   "execution_count": 28,
   "id": "53196b3f",
   "metadata": {},
   "outputs": [
    {
     "data": {
      "text/plain": [
       "(136, 6)"
      ]
     },
     "execution_count": 28,
     "metadata": {},
     "output_type": "execute_result"
    }
   ],
   "source": [
    "# Shape of Datset\n",
    "df2.shape"
   ]
  },
  {
   "cell_type": "code",
   "execution_count": 12,
   "id": "85b43bcf",
   "metadata": {},
   "outputs": [
    {
     "data": {
      "text/plain": [
       "country                          0\n",
       "MilitarySpending                 0\n",
       "Population                       0\n",
       "Military_Spending(Per_Capita)    0\n",
       "GDP(Billion)                     6\n",
       "GDP_Percentage                   6\n",
       "dtype: int64"
      ]
     },
     "execution_count": 12,
     "metadata": {},
     "output_type": "execute_result"
    }
   ],
   "source": [
    "# Checking Null Value\n",
    "df2.isnull().sum()"
   ]
  },
  {
   "cell_type": "code",
   "execution_count": 13,
   "id": "897ffe14",
   "metadata": {},
   "outputs": [],
   "source": [
    "# Replacing Null Values\n",
    "df2.fillna(0, inplace = True)"
   ]
  },
  {
   "cell_type": "code",
   "execution_count": 14,
   "id": "a0fd88c6",
   "metadata": {},
   "outputs": [
    {
     "data": {
      "text/plain": [
       "country                          0\n",
       "MilitarySpending                 0\n",
       "Population                       0\n",
       "Military_Spending(Per_Capita)    0\n",
       "GDP(Billion)                     0\n",
       "GDP_Percentage                   0\n",
       "dtype: int64"
      ]
     },
     "execution_count": 14,
     "metadata": {},
     "output_type": "execute_result"
    }
   ],
   "source": [
    "# Re-checking Null Values\n",
    "df2.isnull().sum()"
   ]
  },
  {
   "cell_type": "code",
   "execution_count": 4,
   "id": "0144f612",
   "metadata": {},
   "outputs": [
    {
     "data": {
      "text/html": [
       "<div>\n",
       "<style scoped>\n",
       "    .dataframe tbody tr th:only-of-type {\n",
       "        vertical-align: middle;\n",
       "    }\n",
       "\n",
       "    .dataframe tbody tr th {\n",
       "        vertical-align: top;\n",
       "    }\n",
       "\n",
       "    .dataframe thead th {\n",
       "        text-align: right;\n",
       "    }\n",
       "</style>\n",
       "<table border=\"1\" class=\"dataframe\">\n",
       "  <thead>\n",
       "    <tr style=\"text-align: right;\">\n",
       "      <th></th>\n",
       "      <th>country</th>\n",
       "      <th>MilitaryBudgetAnnual</th>\n",
       "      <th>MainBattleTank</th>\n",
       "      <th>AircraftCarriers</th>\n",
       "      <th>AWS</th>\n",
       "      <th>Cruisers</th>\n",
       "      <th>Destroyers</th>\n",
       "      <th>Frlgates</th>\n",
       "      <th>Corvettes</th>\n",
       "      <th>NuclearSubmarine</th>\n",
       "      <th>NonNuclearSubmarine</th>\n",
       "      <th>MilitaryAircarft</th>\n",
       "      <th>AttackHelicopters</th>\n",
       "      <th>NuclearWeapons</th>\n",
       "      <th>MillatarySatellite</th>\n",
       "    </tr>\n",
       "  </thead>\n",
       "  <tbody>\n",
       "    <tr>\n",
       "      <th>0</th>\n",
       "      <td>Afghanistan</td>\n",
       "      <td>2.0100</td>\n",
       "      <td>444</td>\n",
       "      <td>0</td>\n",
       "      <td>0</td>\n",
       "      <td>0</td>\n",
       "      <td>0</td>\n",
       "      <td>0</td>\n",
       "      <td>0</td>\n",
       "      <td>0</td>\n",
       "      <td>0</td>\n",
       "      <td>0</td>\n",
       "      <td>0</td>\n",
       "      <td>0</td>\n",
       "      <td>0</td>\n",
       "    </tr>\n",
       "    <tr>\n",
       "      <th>1</th>\n",
       "      <td>Albania</td>\n",
       "      <td>0.1870</td>\n",
       "      <td>0</td>\n",
       "      <td>0</td>\n",
       "      <td>0</td>\n",
       "      <td>0</td>\n",
       "      <td>0</td>\n",
       "      <td>0</td>\n",
       "      <td>0</td>\n",
       "      <td>0</td>\n",
       "      <td>0</td>\n",
       "      <td>0</td>\n",
       "      <td>0</td>\n",
       "      <td>0</td>\n",
       "      <td>0</td>\n",
       "    </tr>\n",
       "    <tr>\n",
       "      <th>2</th>\n",
       "      <td>Algeria</td>\n",
       "      <td>9.9200</td>\n",
       "      <td>1496</td>\n",
       "      <td>0</td>\n",
       "      <td>4</td>\n",
       "      <td>0</td>\n",
       "      <td>0</td>\n",
       "      <td>5</td>\n",
       "      <td>3</td>\n",
       "      <td>0</td>\n",
       "      <td>6</td>\n",
       "      <td>133</td>\n",
       "      <td>45</td>\n",
       "      <td>0</td>\n",
       "      <td>0</td>\n",
       "    </tr>\n",
       "    <tr>\n",
       "      <th>3</th>\n",
       "      <td>Angola</td>\n",
       "      <td>1.0400</td>\n",
       "      <td>300</td>\n",
       "      <td>0</td>\n",
       "      <td>0</td>\n",
       "      <td>0</td>\n",
       "      <td>0</td>\n",
       "      <td>0</td>\n",
       "      <td>0</td>\n",
       "      <td>0</td>\n",
       "      <td>0</td>\n",
       "      <td>97</td>\n",
       "      <td>56</td>\n",
       "      <td>0</td>\n",
       "      <td>0</td>\n",
       "    </tr>\n",
       "    <tr>\n",
       "      <th>4</th>\n",
       "      <td>Antigua and Barbuda</td>\n",
       "      <td>0.0072</td>\n",
       "      <td>0</td>\n",
       "      <td>0</td>\n",
       "      <td>0</td>\n",
       "      <td>0</td>\n",
       "      <td>0</td>\n",
       "      <td>0</td>\n",
       "      <td>0</td>\n",
       "      <td>0</td>\n",
       "      <td>0</td>\n",
       "      <td>0</td>\n",
       "      <td>0</td>\n",
       "      <td>0</td>\n",
       "      <td>0</td>\n",
       "    </tr>\n",
       "  </tbody>\n",
       "</table>\n",
       "</div>"
      ],
      "text/plain": [
       "               country  MilitaryBudgetAnnual  MainBattleTank  \\\n",
       "0          Afghanistan                2.0100             444   \n",
       "1              Albania                0.1870               0   \n",
       "2              Algeria                9.9200            1496   \n",
       "3               Angola                1.0400             300   \n",
       "4  Antigua and Barbuda                0.0072               0   \n",
       "\n",
       "   AircraftCarriers  AWS  Cruisers  Destroyers  Frlgates  Corvettes  \\\n",
       "0                 0    0         0           0         0          0   \n",
       "1                 0    0         0           0         0          0   \n",
       "2                 0    4         0           0         5          3   \n",
       "3                 0    0         0           0         0          0   \n",
       "4                 0    0         0           0         0          0   \n",
       "\n",
       "   NuclearSubmarine  NonNuclearSubmarine  MilitaryAircarft  AttackHelicopters  \\\n",
       "0                 0                    0                 0                  0   \n",
       "1                 0                    0                 0                  0   \n",
       "2                 0                    6               133                 45   \n",
       "3                 0                    0                97                 56   \n",
       "4                 0                    0                 0                  0   \n",
       "\n",
       "   NuclearWeapons  MillatarySatellite  \n",
       "0               0                   0  \n",
       "1               0                   0  \n",
       "2               0                   0  \n",
       "3               0                   0  \n",
       "4               0                   0  "
      ]
     },
     "execution_count": 4,
     "metadata": {},
     "output_type": "execute_result"
    }
   ],
   "source": [
    "# first Five Columns of dataset\n",
    "df3.head(5)"
   ]
  },
  {
   "cell_type": "code",
   "execution_count": 10,
   "id": "6a2caff4",
   "metadata": {},
   "outputs": [
    {
     "name": "stdout",
     "output_type": "stream",
     "text": [
      "<class 'pandas.core.frame.DataFrame'>\n",
      "RangeIndex: 154 entries, 0 to 153\n",
      "Data columns (total 15 columns):\n",
      " #   Column                Non-Null Count  Dtype  \n",
      "---  ------                --------------  -----  \n",
      " 0   country               154 non-null    object \n",
      " 1   MilitaryBudgetAnnual  153 non-null    float64\n",
      " 2   MainBattleTank        154 non-null    int64  \n",
      " 3   AircraftCarriers      154 non-null    int64  \n",
      " 4   AWS                   154 non-null    int64  \n",
      " 5   Cruisers              154 non-null    int64  \n",
      " 6   Destroyers            154 non-null    int64  \n",
      " 7   Frlgates              154 non-null    int64  \n",
      " 8   Corvettes             154 non-null    int64  \n",
      " 9   NuclearSubmarine      154 non-null    int64  \n",
      " 10  NonNuclearSubmarine   154 non-null    int64  \n",
      " 11  MilitaryAircarft      154 non-null    int64  \n",
      " 12  AttackHelicopters     154 non-null    int64  \n",
      " 13  NuclearWeapons        154 non-null    int64  \n",
      " 14  MillatarySatellite    154 non-null    int64  \n",
      "dtypes: float64(1), int64(13), object(1)\n",
      "memory usage: 18.2+ KB\n"
     ]
    }
   ],
   "source": [
    "# Data Information\n",
    "df3.info()"
   ]
  },
  {
   "cell_type": "code",
   "execution_count": 29,
   "id": "4e062132",
   "metadata": {},
   "outputs": [
    {
     "data": {
      "text/plain": [
       "(154, 15)"
      ]
     },
     "execution_count": 29,
     "metadata": {},
     "output_type": "execute_result"
    }
   ],
   "source": [
    "# Shape of Datset\n",
    "df3.shape"
   ]
  },
  {
   "cell_type": "code",
   "execution_count": 11,
   "id": "cbc7c8ad",
   "metadata": {},
   "outputs": [
    {
     "data": {
      "text/plain": [
       "country                 0\n",
       "MilitaryBudgetAnnual    1\n",
       "MainBattleTank          0\n",
       "AircraftCarriers        0\n",
       "AWS                     0\n",
       "Cruisers                0\n",
       "Destroyers              0\n",
       "Frlgates                0\n",
       "Corvettes               0\n",
       "NuclearSubmarine        0\n",
       "NonNuclearSubmarine     0\n",
       "MilitaryAircarft        0\n",
       "AttackHelicopters       0\n",
       "NuclearWeapons          0\n",
       "MillatarySatellite      0\n",
       "dtype: int64"
      ]
     },
     "execution_count": 11,
     "metadata": {},
     "output_type": "execute_result"
    }
   ],
   "source": [
    "# Checking Null Value\n",
    "df3.isnull().sum()"
   ]
  },
  {
   "cell_type": "code",
   "execution_count": 15,
   "id": "b4d72c92",
   "metadata": {},
   "outputs": [],
   "source": [
    "# Replacing Null Values\n",
    "df3.fillna(0, inplace = True)"
   ]
  },
  {
   "cell_type": "code",
   "execution_count": 16,
   "id": "f9336cad",
   "metadata": {},
   "outputs": [
    {
     "data": {
      "text/plain": [
       "country                 0\n",
       "MilitaryBudgetAnnual    0\n",
       "MainBattleTank          0\n",
       "AircraftCarriers        0\n",
       "AWS                     0\n",
       "Cruisers                0\n",
       "Destroyers              0\n",
       "Frlgates                0\n",
       "Corvettes               0\n",
       "NuclearSubmarine        0\n",
       "NonNuclearSubmarine     0\n",
       "MilitaryAircarft        0\n",
       "AttackHelicopters       0\n",
       "NuclearWeapons          0\n",
       "MillatarySatellite      0\n",
       "dtype: int64"
      ]
     },
     "execution_count": 16,
     "metadata": {},
     "output_type": "execute_result"
    }
   ],
   "source": [
    "# Re-checking Null Values\n",
    "df3.isnull().sum()"
   ]
  },
  {
   "cell_type": "markdown",
   "id": "0b0f3223",
   "metadata": {},
   "source": [
    "# Merging Data"
   ]
  },
  {
   "cell_type": "code",
   "execution_count": null,
   "id": "e5c02ba9",
   "metadata": {},
   "outputs": [],
   "source": [
    "# As I Know Country Column is Primary Key of All Dataset.....I can Do Inner Join To Merge All excel Sheet in One."
   ]
  },
  {
   "cell_type": "code",
   "execution_count": 17,
   "id": "e61cbd1e",
   "metadata": {},
   "outputs": [],
   "source": [
    "# Inner Join\n",
    "join_1 = pd.merge(df1, df3, on = ['country'], how = 'inner')"
   ]
  },
  {
   "cell_type": "code",
   "execution_count": 18,
   "id": "f7d2e808",
   "metadata": {},
   "outputs": [
    {
     "data": {
      "text/html": [
       "<div>\n",
       "<style scoped>\n",
       "    .dataframe tbody tr th:only-of-type {\n",
       "        vertical-align: middle;\n",
       "    }\n",
       "\n",
       "    .dataframe tbody tr th {\n",
       "        vertical-align: top;\n",
       "    }\n",
       "\n",
       "    .dataframe thead th {\n",
       "        text-align: right;\n",
       "    }\n",
       "</style>\n",
       "<table border=\"1\" class=\"dataframe\">\n",
       "  <thead>\n",
       "    <tr style=\"text-align: right;\">\n",
       "      <th></th>\n",
       "      <th>country</th>\n",
       "      <th>active military</th>\n",
       "      <th>reserve military</th>\n",
       "      <th>paramilitary</th>\n",
       "      <th>total soldiers</th>\n",
       "      <th>Per 1,000 capita(total)</th>\n",
       "      <th>Per 1,000 capita(active)</th>\n",
       "      <th>MilitaryBudgetAnnual</th>\n",
       "      <th>MainBattleTank</th>\n",
       "      <th>AircraftCarriers</th>\n",
       "      <th>...</th>\n",
       "      <th>Cruisers</th>\n",
       "      <th>Destroyers</th>\n",
       "      <th>Frlgates</th>\n",
       "      <th>Corvettes</th>\n",
       "      <th>NuclearSubmarine</th>\n",
       "      <th>NonNuclearSubmarine</th>\n",
       "      <th>MilitaryAircarft</th>\n",
       "      <th>AttackHelicopters</th>\n",
       "      <th>NuclearWeapons</th>\n",
       "      <th>MillatarySatellite</th>\n",
       "    </tr>\n",
       "  </thead>\n",
       "  <tbody>\n",
       "    <tr>\n",
       "      <th>0</th>\n",
       "      <td>Afghanistan</td>\n",
       "      <td>250000</td>\n",
       "      <td>75000</td>\n",
       "      <td>170000</td>\n",
       "      <td>495000</td>\n",
       "      <td>14.2</td>\n",
       "      <td>7.2</td>\n",
       "      <td>2.0100</td>\n",
       "      <td>444</td>\n",
       "      <td>0</td>\n",
       "      <td>...</td>\n",
       "      <td>0</td>\n",
       "      <td>0</td>\n",
       "      <td>0</td>\n",
       "      <td>0</td>\n",
       "      <td>0</td>\n",
       "      <td>0</td>\n",
       "      <td>0</td>\n",
       "      <td>0</td>\n",
       "      <td>0</td>\n",
       "      <td>0</td>\n",
       "    </tr>\n",
       "    <tr>\n",
       "      <th>1</th>\n",
       "      <td>Albania</td>\n",
       "      <td>8000</td>\n",
       "      <td>0</td>\n",
       "      <td>0</td>\n",
       "      <td>8000</td>\n",
       "      <td>2.6</td>\n",
       "      <td>2.6</td>\n",
       "      <td>0.1870</td>\n",
       "      <td>0</td>\n",
       "      <td>0</td>\n",
       "      <td>...</td>\n",
       "      <td>0</td>\n",
       "      <td>0</td>\n",
       "      <td>0</td>\n",
       "      <td>0</td>\n",
       "      <td>0</td>\n",
       "      <td>0</td>\n",
       "      <td>0</td>\n",
       "      <td>0</td>\n",
       "      <td>0</td>\n",
       "      <td>0</td>\n",
       "    </tr>\n",
       "    <tr>\n",
       "      <th>2</th>\n",
       "      <td>Algeria</td>\n",
       "      <td>130000</td>\n",
       "      <td>150000</td>\n",
       "      <td>187200</td>\n",
       "      <td>467200</td>\n",
       "      <td>11.2</td>\n",
       "      <td>3.1</td>\n",
       "      <td>9.9200</td>\n",
       "      <td>1496</td>\n",
       "      <td>0</td>\n",
       "      <td>...</td>\n",
       "      <td>0</td>\n",
       "      <td>0</td>\n",
       "      <td>5</td>\n",
       "      <td>3</td>\n",
       "      <td>0</td>\n",
       "      <td>6</td>\n",
       "      <td>133</td>\n",
       "      <td>45</td>\n",
       "      <td>0</td>\n",
       "      <td>0</td>\n",
       "    </tr>\n",
       "    <tr>\n",
       "      <th>3</th>\n",
       "      <td>Angola</td>\n",
       "      <td>107000</td>\n",
       "      <td>0</td>\n",
       "      <td>10000</td>\n",
       "      <td>117000</td>\n",
       "      <td>3.9</td>\n",
       "      <td>3.5</td>\n",
       "      <td>1.0400</td>\n",
       "      <td>300</td>\n",
       "      <td>0</td>\n",
       "      <td>...</td>\n",
       "      <td>0</td>\n",
       "      <td>0</td>\n",
       "      <td>0</td>\n",
       "      <td>0</td>\n",
       "      <td>0</td>\n",
       "      <td>0</td>\n",
       "      <td>97</td>\n",
       "      <td>56</td>\n",
       "      <td>0</td>\n",
       "      <td>0</td>\n",
       "    </tr>\n",
       "    <tr>\n",
       "      <th>4</th>\n",
       "      <td>Antigua and Barbuda</td>\n",
       "      <td>180</td>\n",
       "      <td>80</td>\n",
       "      <td>0</td>\n",
       "      <td>260</td>\n",
       "      <td>2.7</td>\n",
       "      <td>1.9</td>\n",
       "      <td>0.0072</td>\n",
       "      <td>0</td>\n",
       "      <td>0</td>\n",
       "      <td>...</td>\n",
       "      <td>0</td>\n",
       "      <td>0</td>\n",
       "      <td>0</td>\n",
       "      <td>0</td>\n",
       "      <td>0</td>\n",
       "      <td>0</td>\n",
       "      <td>0</td>\n",
       "      <td>0</td>\n",
       "      <td>0</td>\n",
       "      <td>0</td>\n",
       "    </tr>\n",
       "  </tbody>\n",
       "</table>\n",
       "<p>5 rows × 21 columns</p>\n",
       "</div>"
      ],
      "text/plain": [
       "               country  active military  reserve military  paramilitary  \\\n",
       "0          Afghanistan           250000             75000        170000   \n",
       "1              Albania             8000                 0             0   \n",
       "2              Algeria           130000            150000        187200   \n",
       "3               Angola           107000                 0         10000   \n",
       "4  Antigua and Barbuda              180                80             0   \n",
       "\n",
       "   total soldiers  Per 1,000 capita(total)  Per 1,000 capita(active)  \\\n",
       "0          495000                     14.2                       7.2   \n",
       "1            8000                      2.6                       2.6   \n",
       "2          467200                     11.2                       3.1   \n",
       "3          117000                      3.9                       3.5   \n",
       "4             260                      2.7                       1.9   \n",
       "\n",
       "   MilitaryBudgetAnnual  MainBattleTank  AircraftCarriers  ...  Cruisers  \\\n",
       "0                2.0100             444                 0  ...         0   \n",
       "1                0.1870               0                 0  ...         0   \n",
       "2                9.9200            1496                 0  ...         0   \n",
       "3                1.0400             300                 0  ...         0   \n",
       "4                0.0072               0                 0  ...         0   \n",
       "\n",
       "   Destroyers  Frlgates  Corvettes  NuclearSubmarine  NonNuclearSubmarine  \\\n",
       "0           0         0          0                 0                    0   \n",
       "1           0         0          0                 0                    0   \n",
       "2           0         5          3                 0                    6   \n",
       "3           0         0          0                 0                    0   \n",
       "4           0         0          0                 0                    0   \n",
       "\n",
       "   MilitaryAircarft  AttackHelicopters  NuclearWeapons  MillatarySatellite  \n",
       "0                 0                  0               0                   0  \n",
       "1                 0                  0               0                   0  \n",
       "2               133                 45               0                   0  \n",
       "3                97                 56               0                   0  \n",
       "4                 0                  0               0                   0  \n",
       "\n",
       "[5 rows x 21 columns]"
      ]
     },
     "execution_count": 18,
     "metadata": {},
     "output_type": "execute_result"
    }
   ],
   "source": [
    "# Mereged df1 and df3 dataset\n",
    "join_1.head()"
   ]
  },
  {
   "cell_type": "code",
   "execution_count": 22,
   "id": "a5e6ac7e",
   "metadata": {},
   "outputs": [],
   "source": [
    "# Converting To Excel\n",
    "join_1.to_excel('join_1.xlsx')"
   ]
  },
  {
   "cell_type": "code",
   "execution_count": 23,
   "id": "5a54ecf8",
   "metadata": {},
   "outputs": [],
   "source": [
    "join_df = pd.read_excel('join_1.xlsx')"
   ]
  },
  {
   "cell_type": "code",
   "execution_count": 24,
   "id": "e7318c7e",
   "metadata": {},
   "outputs": [],
   "source": [
    "# Merging all data\n",
    "join_2 = pd.merge(join_1, df2, on = ['country'], how = 'inner' )"
   ]
  },
  {
   "cell_type": "code",
   "execution_count": 25,
   "id": "d120aee0",
   "metadata": {},
   "outputs": [
    {
     "data": {
      "text/html": [
       "<div>\n",
       "<style scoped>\n",
       "    .dataframe tbody tr th:only-of-type {\n",
       "        vertical-align: middle;\n",
       "    }\n",
       "\n",
       "    .dataframe tbody tr th {\n",
       "        vertical-align: top;\n",
       "    }\n",
       "\n",
       "    .dataframe thead th {\n",
       "        text-align: right;\n",
       "    }\n",
       "</style>\n",
       "<table border=\"1\" class=\"dataframe\">\n",
       "  <thead>\n",
       "    <tr style=\"text-align: right;\">\n",
       "      <th></th>\n",
       "      <th>country</th>\n",
       "      <th>active military</th>\n",
       "      <th>reserve military</th>\n",
       "      <th>paramilitary</th>\n",
       "      <th>total soldiers</th>\n",
       "      <th>Per 1,000 capita(total)</th>\n",
       "      <th>Per 1,000 capita(active)</th>\n",
       "      <th>MilitaryBudgetAnnual</th>\n",
       "      <th>MainBattleTank</th>\n",
       "      <th>AircraftCarriers</th>\n",
       "      <th>...</th>\n",
       "      <th>NonNuclearSubmarine</th>\n",
       "      <th>MilitaryAircarft</th>\n",
       "      <th>AttackHelicopters</th>\n",
       "      <th>NuclearWeapons</th>\n",
       "      <th>MillatarySatellite</th>\n",
       "      <th>MilitarySpending</th>\n",
       "      <th>Population</th>\n",
       "      <th>Military_Spending(Per_Capita)</th>\n",
       "      <th>GDP(Billion)</th>\n",
       "      <th>GDP_Percentage</th>\n",
       "    </tr>\n",
       "  </thead>\n",
       "  <tbody>\n",
       "    <tr>\n",
       "      <th>0</th>\n",
       "      <td>Afghanistan</td>\n",
       "      <td>250000</td>\n",
       "      <td>75000</td>\n",
       "      <td>170000</td>\n",
       "      <td>495000</td>\n",
       "      <td>14.2</td>\n",
       "      <td>7.2</td>\n",
       "      <td>2.010</td>\n",
       "      <td>444</td>\n",
       "      <td>0</td>\n",
       "      <td>...</td>\n",
       "      <td>0</td>\n",
       "      <td>0</td>\n",
       "      <td>0</td>\n",
       "      <td>0</td>\n",
       "      <td>0</td>\n",
       "      <td>12.00</td>\n",
       "      <td>40754388</td>\n",
       "      <td>294.45</td>\n",
       "      <td>19.54</td>\n",
       "      <td>61.40</td>\n",
       "    </tr>\n",
       "    <tr>\n",
       "      <th>1</th>\n",
       "      <td>Albania</td>\n",
       "      <td>8000</td>\n",
       "      <td>0</td>\n",
       "      <td>0</td>\n",
       "      <td>8000</td>\n",
       "      <td>2.6</td>\n",
       "      <td>2.6</td>\n",
       "      <td>0.187</td>\n",
       "      <td>0</td>\n",
       "      <td>0</td>\n",
       "      <td>...</td>\n",
       "      <td>0</td>\n",
       "      <td>0</td>\n",
       "      <td>0</td>\n",
       "      <td>0</td>\n",
       "      <td>0</td>\n",
       "      <td>0.25</td>\n",
       "      <td>2866374</td>\n",
       "      <td>87.22</td>\n",
       "      <td>13.04</td>\n",
       "      <td>1.92</td>\n",
       "    </tr>\n",
       "    <tr>\n",
       "      <th>2</th>\n",
       "      <td>Algeria</td>\n",
       "      <td>130000</td>\n",
       "      <td>150000</td>\n",
       "      <td>187200</td>\n",
       "      <td>467200</td>\n",
       "      <td>11.2</td>\n",
       "      <td>3.1</td>\n",
       "      <td>9.920</td>\n",
       "      <td>1496</td>\n",
       "      <td>0</td>\n",
       "      <td>...</td>\n",
       "      <td>6</td>\n",
       "      <td>133</td>\n",
       "      <td>45</td>\n",
       "      <td>0</td>\n",
       "      <td>0</td>\n",
       "      <td>13.00</td>\n",
       "      <td>45350148</td>\n",
       "      <td>286.66</td>\n",
       "      <td>167.56</td>\n",
       "      <td>7.76</td>\n",
       "    </tr>\n",
       "    <tr>\n",
       "      <th>3</th>\n",
       "      <td>Angola</td>\n",
       "      <td>107000</td>\n",
       "      <td>0</td>\n",
       "      <td>10000</td>\n",
       "      <td>117000</td>\n",
       "      <td>3.9</td>\n",
       "      <td>3.5</td>\n",
       "      <td>1.040</td>\n",
       "      <td>300</td>\n",
       "      <td>0</td>\n",
       "      <td>...</td>\n",
       "      <td>0</td>\n",
       "      <td>97</td>\n",
       "      <td>56</td>\n",
       "      <td>0</td>\n",
       "      <td>0</td>\n",
       "      <td>7.00</td>\n",
       "      <td>35027343</td>\n",
       "      <td>199.84</td>\n",
       "      <td>122.12</td>\n",
       "      <td>5.73</td>\n",
       "    </tr>\n",
       "    <tr>\n",
       "      <th>4</th>\n",
       "      <td>Argentina</td>\n",
       "      <td>72100</td>\n",
       "      <td>0</td>\n",
       "      <td>31250</td>\n",
       "      <td>103350</td>\n",
       "      <td>2.3</td>\n",
       "      <td>1.6</td>\n",
       "      <td>2.910</td>\n",
       "      <td>231</td>\n",
       "      <td>0</td>\n",
       "      <td>...</td>\n",
       "      <td>1</td>\n",
       "      <td>72</td>\n",
       "      <td>0</td>\n",
       "      <td>0</td>\n",
       "      <td>0</td>\n",
       "      <td>4.20</td>\n",
       "      <td>46010234</td>\n",
       "      <td>91.28</td>\n",
       "      <td>637.43</td>\n",
       "      <td>0.66</td>\n",
       "    </tr>\n",
       "  </tbody>\n",
       "</table>\n",
       "<p>5 rows × 26 columns</p>\n",
       "</div>"
      ],
      "text/plain": [
       "       country  active military  reserve military  paramilitary  \\\n",
       "0  Afghanistan           250000             75000        170000   \n",
       "1      Albania             8000                 0             0   \n",
       "2      Algeria           130000            150000        187200   \n",
       "3       Angola           107000                 0         10000   \n",
       "4    Argentina            72100                 0         31250   \n",
       "\n",
       "   total soldiers  Per 1,000 capita(total)  Per 1,000 capita(active)  \\\n",
       "0          495000                     14.2                       7.2   \n",
       "1            8000                      2.6                       2.6   \n",
       "2          467200                     11.2                       3.1   \n",
       "3          117000                      3.9                       3.5   \n",
       "4          103350                      2.3                       1.6   \n",
       "\n",
       "   MilitaryBudgetAnnual  MainBattleTank  AircraftCarriers  ...  \\\n",
       "0                 2.010             444                 0  ...   \n",
       "1                 0.187               0                 0  ...   \n",
       "2                 9.920            1496                 0  ...   \n",
       "3                 1.040             300                 0  ...   \n",
       "4                 2.910             231                 0  ...   \n",
       "\n",
       "   NonNuclearSubmarine  MilitaryAircarft  AttackHelicopters  NuclearWeapons  \\\n",
       "0                    0                 0                  0               0   \n",
       "1                    0                 0                  0               0   \n",
       "2                    6               133                 45               0   \n",
       "3                    0                97                 56               0   \n",
       "4                    1                72                  0               0   \n",
       "\n",
       "   MillatarySatellite  MilitarySpending  Population  \\\n",
       "0                   0             12.00    40754388   \n",
       "1                   0              0.25     2866374   \n",
       "2                   0             13.00    45350148   \n",
       "3                   0              7.00    35027343   \n",
       "4                   0              4.20    46010234   \n",
       "\n",
       "   Military_Spending(Per_Capita)  GDP(Billion)  GDP_Percentage  \n",
       "0                         294.45         19.54           61.40  \n",
       "1                          87.22         13.04            1.92  \n",
       "2                         286.66        167.56            7.76  \n",
       "3                         199.84        122.12            5.73  \n",
       "4                          91.28        637.43            0.66  \n",
       "\n",
       "[5 rows x 26 columns]"
      ]
     },
     "execution_count": 25,
     "metadata": {},
     "output_type": "execute_result"
    }
   ],
   "source": [
    "# Merged Data\n",
    "join_2.head()"
   ]
  },
  {
   "cell_type": "code",
   "execution_count": 30,
   "id": "d5d03ac2",
   "metadata": {},
   "outputs": [
    {
     "name": "stdout",
     "output_type": "stream",
     "text": [
      "<class 'pandas.core.frame.DataFrame'>\n",
      "Int64Index: 122 entries, 0 to 121\n",
      "Data columns (total 26 columns):\n",
      " #   Column                         Non-Null Count  Dtype  \n",
      "---  ------                         --------------  -----  \n",
      " 0   country                        122 non-null    object \n",
      " 1   active military                122 non-null    int64  \n",
      " 2   reserve military               122 non-null    int64  \n",
      " 3   paramilitary                   122 non-null    int64  \n",
      " 4   total soldiers                 122 non-null    int64  \n",
      " 5   Per 1,000 capita(total)        122 non-null    float64\n",
      " 6   Per 1,000 capita(active)       122 non-null    float64\n",
      " 7   MilitaryBudgetAnnual           122 non-null    float64\n",
      " 8   MainBattleTank                 122 non-null    int64  \n",
      " 9   AircraftCarriers               122 non-null    int64  \n",
      " 10  AWS                            122 non-null    int64  \n",
      " 11  Cruisers                       122 non-null    int64  \n",
      " 12  Destroyers                     122 non-null    int64  \n",
      " 13  Frlgates                       122 non-null    int64  \n",
      " 14  Corvettes                      122 non-null    int64  \n",
      " 15  NuclearSubmarine               122 non-null    int64  \n",
      " 16  NonNuclearSubmarine            122 non-null    int64  \n",
      " 17  MilitaryAircarft               122 non-null    int64  \n",
      " 18  AttackHelicopters              122 non-null    int64  \n",
      " 19  NuclearWeapons                 122 non-null    int64  \n",
      " 20  MillatarySatellite             122 non-null    int64  \n",
      " 21  MilitarySpending               122 non-null    float64\n",
      " 22  Population                     122 non-null    int64  \n",
      " 23  Military_Spending(Per_Capita)  122 non-null    float64\n",
      " 24  GDP(Billion)                   122 non-null    float64\n",
      " 25  GDP_Percentage                 122 non-null    float64\n",
      "dtypes: float64(7), int64(18), object(1)\n",
      "memory usage: 25.7+ KB\n"
     ]
    }
   ],
   "source": [
    "# merged data information\n",
    "join_2.info()"
   ]
  },
  {
   "cell_type": "code",
   "execution_count": 31,
   "id": "898885a3",
   "metadata": {},
   "outputs": [
    {
     "data": {
      "text/plain": [
       "country                          0\n",
       "active military                  0\n",
       "reserve military                 0\n",
       "paramilitary                     0\n",
       "total soldiers                   0\n",
       "Per 1,000 capita(total)          0\n",
       "Per 1,000 capita(active)         0\n",
       "MilitaryBudgetAnnual             0\n",
       "MainBattleTank                   0\n",
       "AircraftCarriers                 0\n",
       "AWS                              0\n",
       "Cruisers                         0\n",
       "Destroyers                       0\n",
       "Frlgates                         0\n",
       "Corvettes                        0\n",
       "NuclearSubmarine                 0\n",
       "NonNuclearSubmarine              0\n",
       "MilitaryAircarft                 0\n",
       "AttackHelicopters                0\n",
       "NuclearWeapons                   0\n",
       "MillatarySatellite               0\n",
       "MilitarySpending                 0\n",
       "Population                       0\n",
       "Military_Spending(Per_Capita)    0\n",
       "GDP(Billion)                     0\n",
       "GDP_Percentage                   0\n",
       "dtype: int64"
      ]
     },
     "execution_count": 31,
     "metadata": {},
     "output_type": "execute_result"
    }
   ],
   "source": [
    "# Checking Null Values\n",
    "join_2.isnull().sum()"
   ]
  },
  {
   "cell_type": "code",
   "execution_count": 32,
   "id": "3d859855",
   "metadata": {},
   "outputs": [],
   "source": [
    "# converting final data to excelsheet\n",
    "join_2.to_excel('Final.xlsx', index=False)"
   ]
  },
  {
   "cell_type": "code",
   "execution_count": null,
   "id": "296464a4",
   "metadata": {},
   "outputs": [],
   "source": []
  }
 ],
 "metadata": {
  "kernelspec": {
   "display_name": "Python 3 (ipykernel)",
   "language": "python",
   "name": "python3"
  },
  "language_info": {
   "codemirror_mode": {
    "name": "ipython",
    "version": 3
   },
   "file_extension": ".py",
   "mimetype": "text/x-python",
   "name": "python",
   "nbconvert_exporter": "python",
   "pygments_lexer": "ipython3",
   "version": "3.10.4"
  }
 },
 "nbformat": 4,
 "nbformat_minor": 5
}
